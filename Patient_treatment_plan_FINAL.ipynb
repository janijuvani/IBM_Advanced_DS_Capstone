{
 "cells": [
  {
   "cell_type": "code",
   "execution_count": 7,
   "id": "d770aa0e",
   "metadata": {},
   "outputs": [],
   "source": [
    "import pandas as pd\n",
    "import numpy as np\n",
    "from sklearn.preprocessing import StandardScaler\n",
    "from sklearn.model_selection import train_test_split\n",
    "from sklearn.linear_model import LogisticRegression\n",
    "from sklearn.svm import SVC\n",
    "\n",
    "from tensorflow.keras.models import Sequential\n",
    "from tensorflow.keras.layers import Dense, Dropout\n",
    "from tensorflow.keras.utils import to_categorical\n",
    "\n",
    "import matplotlib.pyplot as plt\n",
    "import seaborn as sns"
   ]
  },
  {
   "cell_type": "markdown",
   "id": "13c9c9a5",
   "metadata": {},
   "source": [
    "### Initial Data Exploration"
   ]
  },
  {
   "cell_type": "code",
   "execution_count": 8,
   "id": "77dae86e",
   "metadata": {},
   "outputs": [
    {
     "data": {
      "text/html": [
       "<div>\n",
       "<style scoped>\n",
       "    .dataframe tbody tr th:only-of-type {\n",
       "        vertical-align: middle;\n",
       "    }\n",
       "\n",
       "    .dataframe tbody tr th {\n",
       "        vertical-align: top;\n",
       "    }\n",
       "\n",
       "    .dataframe thead th {\n",
       "        text-align: right;\n",
       "    }\n",
       "</style>\n",
       "<table border=\"1\" class=\"dataframe\">\n",
       "  <thead>\n",
       "    <tr style=\"text-align: right;\">\n",
       "      <th></th>\n",
       "      <th>HAEMATOCRIT</th>\n",
       "      <th>HAEMOGLOBINS</th>\n",
       "      <th>ERYTHROCYTE</th>\n",
       "      <th>LEUCOCYTE</th>\n",
       "      <th>THROMBOCYTE</th>\n",
       "      <th>MCH</th>\n",
       "      <th>MCHC</th>\n",
       "      <th>MCV</th>\n",
       "      <th>AGE</th>\n",
       "      <th>SEX</th>\n",
       "      <th>SOURCE</th>\n",
       "    </tr>\n",
       "  </thead>\n",
       "  <tbody>\n",
       "    <tr>\n",
       "      <th>0</th>\n",
       "      <td>35.1</td>\n",
       "      <td>11.8</td>\n",
       "      <td>4.65</td>\n",
       "      <td>6.3</td>\n",
       "      <td>310</td>\n",
       "      <td>25.4</td>\n",
       "      <td>33.6</td>\n",
       "      <td>75.5</td>\n",
       "      <td>1</td>\n",
       "      <td>F</td>\n",
       "      <td>out</td>\n",
       "    </tr>\n",
       "    <tr>\n",
       "      <th>1</th>\n",
       "      <td>43.5</td>\n",
       "      <td>14.8</td>\n",
       "      <td>5.39</td>\n",
       "      <td>12.7</td>\n",
       "      <td>334</td>\n",
       "      <td>27.5</td>\n",
       "      <td>34.0</td>\n",
       "      <td>80.7</td>\n",
       "      <td>1</td>\n",
       "      <td>F</td>\n",
       "      <td>out</td>\n",
       "    </tr>\n",
       "    <tr>\n",
       "      <th>2</th>\n",
       "      <td>33.5</td>\n",
       "      <td>11.3</td>\n",
       "      <td>4.74</td>\n",
       "      <td>13.2</td>\n",
       "      <td>305</td>\n",
       "      <td>23.8</td>\n",
       "      <td>33.7</td>\n",
       "      <td>70.7</td>\n",
       "      <td>1</td>\n",
       "      <td>F</td>\n",
       "      <td>out</td>\n",
       "    </tr>\n",
       "    <tr>\n",
       "      <th>3</th>\n",
       "      <td>39.1</td>\n",
       "      <td>13.7</td>\n",
       "      <td>4.98</td>\n",
       "      <td>10.5</td>\n",
       "      <td>366</td>\n",
       "      <td>27.5</td>\n",
       "      <td>35.0</td>\n",
       "      <td>78.5</td>\n",
       "      <td>1</td>\n",
       "      <td>F</td>\n",
       "      <td>out</td>\n",
       "    </tr>\n",
       "    <tr>\n",
       "      <th>4</th>\n",
       "      <td>30.9</td>\n",
       "      <td>9.9</td>\n",
       "      <td>4.23</td>\n",
       "      <td>22.1</td>\n",
       "      <td>333</td>\n",
       "      <td>23.4</td>\n",
       "      <td>32.0</td>\n",
       "      <td>73.0</td>\n",
       "      <td>1</td>\n",
       "      <td>M</td>\n",
       "      <td>out</td>\n",
       "    </tr>\n",
       "  </tbody>\n",
       "</table>\n",
       "</div>"
      ],
      "text/plain": [
       "   HAEMATOCRIT  HAEMOGLOBINS  ERYTHROCYTE  LEUCOCYTE  THROMBOCYTE   MCH  MCHC  \\\n",
       "0         35.1          11.8         4.65        6.3          310  25.4  33.6   \n",
       "1         43.5          14.8         5.39       12.7          334  27.5  34.0   \n",
       "2         33.5          11.3         4.74       13.2          305  23.8  33.7   \n",
       "3         39.1          13.7         4.98       10.5          366  27.5  35.0   \n",
       "4         30.9           9.9         4.23       22.1          333  23.4  32.0   \n",
       "\n",
       "    MCV  AGE SEX SOURCE  \n",
       "0  75.5    1   F    out  \n",
       "1  80.7    1   F    out  \n",
       "2  70.7    1   F    out  \n",
       "3  78.5    1   F    out  \n",
       "4  73.0    1   M    out  "
      ]
     },
     "execution_count": 8,
     "metadata": {},
     "output_type": "execute_result"
    }
   ],
   "source": [
    "df = pd.read_csv(\"data-ori.csv\")\n",
    "df.head()"
   ]
  },
  {
   "cell_type": "code",
   "execution_count": 9,
   "id": "3abbb51a",
   "metadata": {},
   "outputs": [
    {
     "data": {
      "text/html": [
       "<div>\n",
       "<style scoped>\n",
       "    .dataframe tbody tr th:only-of-type {\n",
       "        vertical-align: middle;\n",
       "    }\n",
       "\n",
       "    .dataframe tbody tr th {\n",
       "        vertical-align: top;\n",
       "    }\n",
       "\n",
       "    .dataframe thead th {\n",
       "        text-align: right;\n",
       "    }\n",
       "</style>\n",
       "<table border=\"1\" class=\"dataframe\">\n",
       "  <thead>\n",
       "    <tr style=\"text-align: right;\">\n",
       "      <th></th>\n",
       "      <th>HAEMATOCRIT</th>\n",
       "      <th>HAEMOGLOBINS</th>\n",
       "      <th>ERYTHROCYTE</th>\n",
       "      <th>LEUCOCYTE</th>\n",
       "      <th>THROMBOCYTE</th>\n",
       "      <th>MCH</th>\n",
       "      <th>MCHC</th>\n",
       "      <th>MCV</th>\n",
       "      <th>AGE</th>\n",
       "    </tr>\n",
       "  </thead>\n",
       "  <tbody>\n",
       "    <tr>\n",
       "      <th>count</th>\n",
       "      <td>4412.000000</td>\n",
       "      <td>4412.000000</td>\n",
       "      <td>4412.000000</td>\n",
       "      <td>4412.000000</td>\n",
       "      <td>4412.000000</td>\n",
       "      <td>4412.000000</td>\n",
       "      <td>4412.000000</td>\n",
       "      <td>4412.000000</td>\n",
       "      <td>4412.000000</td>\n",
       "    </tr>\n",
       "    <tr>\n",
       "      <th>mean</th>\n",
       "      <td>38.197688</td>\n",
       "      <td>12.741727</td>\n",
       "      <td>4.541260</td>\n",
       "      <td>8.718608</td>\n",
       "      <td>257.524479</td>\n",
       "      <td>28.234701</td>\n",
       "      <td>33.343042</td>\n",
       "      <td>84.612942</td>\n",
       "      <td>46.626473</td>\n",
       "    </tr>\n",
       "    <tr>\n",
       "      <th>std</th>\n",
       "      <td>5.974784</td>\n",
       "      <td>2.079903</td>\n",
       "      <td>0.784091</td>\n",
       "      <td>5.049041</td>\n",
       "      <td>113.972365</td>\n",
       "      <td>2.672639</td>\n",
       "      <td>1.228664</td>\n",
       "      <td>6.859101</td>\n",
       "      <td>21.731218</td>\n",
       "    </tr>\n",
       "    <tr>\n",
       "      <th>min</th>\n",
       "      <td>13.700000</td>\n",
       "      <td>3.800000</td>\n",
       "      <td>1.480000</td>\n",
       "      <td>1.100000</td>\n",
       "      <td>8.000000</td>\n",
       "      <td>14.900000</td>\n",
       "      <td>26.000000</td>\n",
       "      <td>54.000000</td>\n",
       "      <td>1.000000</td>\n",
       "    </tr>\n",
       "    <tr>\n",
       "      <th>25%</th>\n",
       "      <td>34.375000</td>\n",
       "      <td>11.400000</td>\n",
       "      <td>4.040000</td>\n",
       "      <td>5.675000</td>\n",
       "      <td>188.000000</td>\n",
       "      <td>27.200000</td>\n",
       "      <td>32.700000</td>\n",
       "      <td>81.500000</td>\n",
       "      <td>29.000000</td>\n",
       "    </tr>\n",
       "    <tr>\n",
       "      <th>50%</th>\n",
       "      <td>38.600000</td>\n",
       "      <td>12.900000</td>\n",
       "      <td>4.570000</td>\n",
       "      <td>7.600000</td>\n",
       "      <td>256.000000</td>\n",
       "      <td>28.700000</td>\n",
       "      <td>33.400000</td>\n",
       "      <td>85.400000</td>\n",
       "      <td>47.000000</td>\n",
       "    </tr>\n",
       "    <tr>\n",
       "      <th>75%</th>\n",
       "      <td>42.500000</td>\n",
       "      <td>14.200000</td>\n",
       "      <td>5.050000</td>\n",
       "      <td>10.300000</td>\n",
       "      <td>321.000000</td>\n",
       "      <td>29.800000</td>\n",
       "      <td>34.100000</td>\n",
       "      <td>88.700000</td>\n",
       "      <td>64.000000</td>\n",
       "    </tr>\n",
       "    <tr>\n",
       "      <th>max</th>\n",
       "      <td>69.000000</td>\n",
       "      <td>18.900000</td>\n",
       "      <td>7.860000</td>\n",
       "      <td>76.600000</td>\n",
       "      <td>1183.000000</td>\n",
       "      <td>40.800000</td>\n",
       "      <td>39.000000</td>\n",
       "      <td>115.600000</td>\n",
       "      <td>99.000000</td>\n",
       "    </tr>\n",
       "  </tbody>\n",
       "</table>\n",
       "</div>"
      ],
      "text/plain": [
       "       HAEMATOCRIT  HAEMOGLOBINS  ERYTHROCYTE    LEUCOCYTE  THROMBOCYTE  \\\n",
       "count  4412.000000   4412.000000  4412.000000  4412.000000  4412.000000   \n",
       "mean     38.197688     12.741727     4.541260     8.718608   257.524479   \n",
       "std       5.974784      2.079903     0.784091     5.049041   113.972365   \n",
       "min      13.700000      3.800000     1.480000     1.100000     8.000000   \n",
       "25%      34.375000     11.400000     4.040000     5.675000   188.000000   \n",
       "50%      38.600000     12.900000     4.570000     7.600000   256.000000   \n",
       "75%      42.500000     14.200000     5.050000    10.300000   321.000000   \n",
       "max      69.000000     18.900000     7.860000    76.600000  1183.000000   \n",
       "\n",
       "               MCH         MCHC          MCV          AGE  \n",
       "count  4412.000000  4412.000000  4412.000000  4412.000000  \n",
       "mean     28.234701    33.343042    84.612942    46.626473  \n",
       "std       2.672639     1.228664     6.859101    21.731218  \n",
       "min      14.900000    26.000000    54.000000     1.000000  \n",
       "25%      27.200000    32.700000    81.500000    29.000000  \n",
       "50%      28.700000    33.400000    85.400000    47.000000  \n",
       "75%      29.800000    34.100000    88.700000    64.000000  \n",
       "max      40.800000    39.000000   115.600000    99.000000  "
      ]
     },
     "execution_count": 9,
     "metadata": {},
     "output_type": "execute_result"
    }
   ],
   "source": [
    "df.describe()"
   ]
  },
  {
   "cell_type": "code",
   "execution_count": 10,
   "id": "0dba2edf",
   "metadata": {},
   "outputs": [
    {
     "data": {
      "text/plain": [
       "HAEMATOCRIT     0\n",
       "HAEMOGLOBINS    0\n",
       "ERYTHROCYTE     0\n",
       "LEUCOCYTE       0\n",
       "THROMBOCYTE     0\n",
       "MCH             0\n",
       "MCHC            0\n",
       "MCV             0\n",
       "AGE             0\n",
       "SEX             0\n",
       "SOURCE          0\n",
       "dtype: int64"
      ]
     },
     "execution_count": 10,
     "metadata": {},
     "output_type": "execute_result"
    }
   ],
   "source": [
    "df.isnull().sum()"
   ]
  },
  {
   "cell_type": "markdown",
   "id": "798c21c0",
   "metadata": {},
   "source": [
    "No missing values"
   ]
  },
  {
   "cell_type": "code",
   "execution_count": 11,
   "id": "a1307f39",
   "metadata": {},
   "outputs": [
    {
     "data": {
      "text/plain": [
       "out    2628\n",
       "in     1784\n",
       "Name: SOURCE, dtype: int64"
      ]
     },
     "execution_count": 11,
     "metadata": {},
     "output_type": "execute_result"
    }
   ],
   "source": [
    "df[\"SOURCE\"].value_counts()"
   ]
  },
  {
   "cell_type": "markdown",
   "id": "64715f2e",
   "metadata": {},
   "source": [
    "The data set is unbalanced which has to be taken into account when defining models"
   ]
  },
  {
   "cell_type": "code",
   "execution_count": 12,
   "id": "baf7127f",
   "metadata": {},
   "outputs": [
    {
     "data": {
      "text/html": [
       "<div>\n",
       "<style scoped>\n",
       "    .dataframe tbody tr th:only-of-type {\n",
       "        vertical-align: middle;\n",
       "    }\n",
       "\n",
       "    .dataframe tbody tr th {\n",
       "        vertical-align: top;\n",
       "    }\n",
       "\n",
       "    .dataframe thead th {\n",
       "        text-align: right;\n",
       "    }\n",
       "</style>\n",
       "<table border=\"1\" class=\"dataframe\">\n",
       "  <thead>\n",
       "    <tr style=\"text-align: right;\">\n",
       "      <th></th>\n",
       "      <th>HAEMATOCRIT</th>\n",
       "      <th>HAEMOGLOBINS</th>\n",
       "      <th>ERYTHROCYTE</th>\n",
       "      <th>LEUCOCYTE</th>\n",
       "      <th>THROMBOCYTE</th>\n",
       "      <th>MCH</th>\n",
       "      <th>MCHC</th>\n",
       "      <th>MCV</th>\n",
       "      <th>AGE</th>\n",
       "    </tr>\n",
       "  </thead>\n",
       "  <tbody>\n",
       "    <tr>\n",
       "      <th>HAEMATOCRIT</th>\n",
       "      <td>1.000000</td>\n",
       "      <td>0.973267</td>\n",
       "      <td>0.864989</td>\n",
       "      <td>-0.217218</td>\n",
       "      <td>-0.003562</td>\n",
       "      <td>0.083714</td>\n",
       "      <td>0.108098</td>\n",
       "      <td>0.054948</td>\n",
       "      <td>-0.254799</td>\n",
       "    </tr>\n",
       "    <tr>\n",
       "      <th>HAEMOGLOBINS</th>\n",
       "      <td>0.973267</td>\n",
       "      <td>1.000000</td>\n",
       "      <td>0.818013</td>\n",
       "      <td>-0.208583</td>\n",
       "      <td>-0.045441</td>\n",
       "      <td>0.203248</td>\n",
       "      <td>0.314159</td>\n",
       "      <td>0.105379</td>\n",
       "      <td>-0.239480</td>\n",
       "    </tr>\n",
       "    <tr>\n",
       "      <th>ERYTHROCYTE</th>\n",
       "      <td>0.864989</td>\n",
       "      <td>0.818013</td>\n",
       "      <td>1.000000</td>\n",
       "      <td>-0.186711</td>\n",
       "      <td>0.025879</td>\n",
       "      <td>-0.383666</td>\n",
       "      <td>-0.048313</td>\n",
       "      <td>-0.436041</td>\n",
       "      <td>-0.412858</td>\n",
       "    </tr>\n",
       "    <tr>\n",
       "      <th>LEUCOCYTE</th>\n",
       "      <td>-0.217218</td>\n",
       "      <td>-0.208583</td>\n",
       "      <td>-0.186711</td>\n",
       "      <td>1.000000</td>\n",
       "      <td>0.283262</td>\n",
       "      <td>-0.014840</td>\n",
       "      <td>0.003194</td>\n",
       "      <td>-0.015885</td>\n",
       "      <td>0.191987</td>\n",
       "    </tr>\n",
       "    <tr>\n",
       "      <th>THROMBOCYTE</th>\n",
       "      <td>-0.003562</td>\n",
       "      <td>-0.045441</td>\n",
       "      <td>0.025879</td>\n",
       "      <td>0.283262</td>\n",
       "      <td>1.000000</td>\n",
       "      <td>-0.138058</td>\n",
       "      <td>-0.198921</td>\n",
       "      <td>-0.075961</td>\n",
       "      <td>0.031064</td>\n",
       "    </tr>\n",
       "    <tr>\n",
       "      <th>MCH</th>\n",
       "      <td>0.083714</td>\n",
       "      <td>0.203248</td>\n",
       "      <td>-0.383666</td>\n",
       "      <td>-0.014840</td>\n",
       "      <td>-0.138058</td>\n",
       "      <td>1.000000</td>\n",
       "      <td>0.589830</td>\n",
       "      <td>0.931804</td>\n",
       "      <td>0.350166</td>\n",
       "    </tr>\n",
       "    <tr>\n",
       "      <th>MCHC</th>\n",
       "      <td>0.108098</td>\n",
       "      <td>0.314159</td>\n",
       "      <td>-0.048313</td>\n",
       "      <td>0.003194</td>\n",
       "      <td>-0.198921</td>\n",
       "      <td>0.589830</td>\n",
       "      <td>1.000000</td>\n",
       "      <td>0.259672</td>\n",
       "      <td>0.041741</td>\n",
       "    </tr>\n",
       "    <tr>\n",
       "      <th>MCV</th>\n",
       "      <td>0.054948</td>\n",
       "      <td>0.105379</td>\n",
       "      <td>-0.436041</td>\n",
       "      <td>-0.015885</td>\n",
       "      <td>-0.075961</td>\n",
       "      <td>0.931804</td>\n",
       "      <td>0.259672</td>\n",
       "      <td>1.000000</td>\n",
       "      <td>0.395380</td>\n",
       "    </tr>\n",
       "    <tr>\n",
       "      <th>AGE</th>\n",
       "      <td>-0.254799</td>\n",
       "      <td>-0.239480</td>\n",
       "      <td>-0.412858</td>\n",
       "      <td>0.191987</td>\n",
       "      <td>0.031064</td>\n",
       "      <td>0.350166</td>\n",
       "      <td>0.041741</td>\n",
       "      <td>0.395380</td>\n",
       "      <td>1.000000</td>\n",
       "    </tr>\n",
       "  </tbody>\n",
       "</table>\n",
       "</div>"
      ],
      "text/plain": [
       "              HAEMATOCRIT  HAEMOGLOBINS  ERYTHROCYTE  LEUCOCYTE  THROMBOCYTE  \\\n",
       "HAEMATOCRIT      1.000000      0.973267     0.864989  -0.217218    -0.003562   \n",
       "HAEMOGLOBINS     0.973267      1.000000     0.818013  -0.208583    -0.045441   \n",
       "ERYTHROCYTE      0.864989      0.818013     1.000000  -0.186711     0.025879   \n",
       "LEUCOCYTE       -0.217218     -0.208583    -0.186711   1.000000     0.283262   \n",
       "THROMBOCYTE     -0.003562     -0.045441     0.025879   0.283262     1.000000   \n",
       "MCH              0.083714      0.203248    -0.383666  -0.014840    -0.138058   \n",
       "MCHC             0.108098      0.314159    -0.048313   0.003194    -0.198921   \n",
       "MCV              0.054948      0.105379    -0.436041  -0.015885    -0.075961   \n",
       "AGE             -0.254799     -0.239480    -0.412858   0.191987     0.031064   \n",
       "\n",
       "                   MCH      MCHC       MCV       AGE  \n",
       "HAEMATOCRIT   0.083714  0.108098  0.054948 -0.254799  \n",
       "HAEMOGLOBINS  0.203248  0.314159  0.105379 -0.239480  \n",
       "ERYTHROCYTE  -0.383666 -0.048313 -0.436041 -0.412858  \n",
       "LEUCOCYTE    -0.014840  0.003194 -0.015885  0.191987  \n",
       "THROMBOCYTE  -0.138058 -0.198921 -0.075961  0.031064  \n",
       "MCH           1.000000  0.589830  0.931804  0.350166  \n",
       "MCHC          0.589830  1.000000  0.259672  0.041741  \n",
       "MCV           0.931804  0.259672  1.000000  0.395380  \n",
       "AGE           0.350166  0.041741  0.395380  1.000000  "
      ]
     },
     "execution_count": 12,
     "metadata": {},
     "output_type": "execute_result"
    }
   ],
   "source": [
    "df.corr()"
   ]
  },
  {
   "cell_type": "markdown",
   "id": "3397f589",
   "metadata": {},
   "source": [
    "### Data visualization"
   ]
  },
  {
   "cell_type": "code",
   "execution_count": 17,
   "id": "c79bf1b5",
   "metadata": {},
   "outputs": [
    {
     "data": {
      "image/png": "[encoded data removed]",
      "text/plain": [
       "<Figure size 412.25x360 with 1 Axes>"
      ]
     },
     "metadata": {
      "needs_background": "light"
     },
     "output_type": "display_data"
    }
   ],
   "source": [
    "sns.displot(data=df, x=\"HAEMATOCRIT\", hue=\"SOURCE\")\n",
    "plt.title(\"Haematocrit Distribution\", fontsize = 14)\n",
    "plt.show()"
   ]
  },
  {
   "cell_type": "code",
   "execution_count": 20,
   "id": "376cedba",
   "metadata": {},
   "outputs": [
    {
     "data": {
      "image/png": "[encoded data removed]",
      "text/plain": [
       "<Figure size 432x288 with 1 Axes>"
      ]
     },
     "metadata": {
      "needs_background": "light"
     },
     "output_type": "display_data"
    }
   ],
   "source": [
    "sns.boxplot(x=\"SOURCE\", y=\"HAEMATOCRIT\", data=df)\n",
    "plt.title(\"Haematocrit\", fontsize = 14)\n",
    "plt.show()"
   ]
  },
  {
   "cell_type": "code",
   "execution_count": 21,
   "id": "92571cca",
   "metadata": {},
   "outputs": [
    {
     "data": {
      "image/png": "[encoded data removed]",
      "text/plain": [
       "<Figure size 432x288 with 1 Axes>"
      ]
     },
     "metadata": {
      "needs_background": "light"
     },
     "output_type": "display_data"
    }
   ],
   "source": [
    "sns.boxplot(x=\"SOURCE\", y=\"HAEMOGLOBINS\", data=df)\n",
    "plt.title(\"Haemoglobins\", fontsize = 14)\n",
    "plt.show()"
   ]
  },
  {
   "cell_type": "code",
   "execution_count": 22,
   "id": "fdc4e83c",
   "metadata": {},
   "outputs": [
    {
     "data": {
      "image/png": "[encoded data removed]",
      "text/plain": [
       "<Figure size 432x288 with 1 Axes>"
      ]
     },
     "metadata": {
      "needs_background": "light"
     },
     "output_type": "display_data"
    }
   ],
   "source": [
    "sns.boxplot(x=\"SOURCE\", y=\"THROMBOCYTE\", data=df)\n",
    "plt.title(\"Thrombocyte\", fontsize = 14)\n",
    "plt.show()"
   ]
  },
  {
   "cell_type": "code",
   "execution_count": 23,
   "id": "569d7c3e",
   "metadata": {},
   "outputs": [
    {
     "data": {
      "image/png": "[encoded data removed]",
      "text/plain": [
       "<Figure size 432x288 with 1 Axes>"
      ]
     },
     "metadata": {
      "needs_background": "light"
     },
     "output_type": "display_data"
    }
   ],
   "source": [
    "sns.boxplot(x=\"SOURCE\", y=\"AGE\", data=df)\n",
    "plt.title(\"Age\", fontsize = 14)\n",
    "plt.show()"
   ]
  },
  {
   "cell_type": "code",
   "execution_count": 33,
   "id": "b25dacac",
   "metadata": {},
   "outputs": [
    {
     "data": {
      "image/png": "[encoded data removed]",
      "text/plain": [
       "<Figure size 432x288 with 1 Axes>"
      ]
     },
     "metadata": {
      "needs_background": "light"
     },
     "output_type": "display_data"
    }
   ],
   "source": [
    "sns.countplot(data=df, x=\"SOURCE\", hue=\"SEX\")\n",
    "plt.title(\"Sex\", fontsize = 14)\n",
    "plt.show()"
   ]
  },
  {
   "cell_type": "code",
   "execution_count": null,
   "id": "5bb138e1",
   "metadata": {},
   "outputs": [],
   "source": []
  },
  {
   "cell_type": "markdown",
   "id": "854406f8",
   "metadata": {},
   "source": [
    "### Features and labels creation"
   ]
  },
  {
   "cell_type": "code",
   "execution_count": 4,
   "id": "d591da43",
   "metadata": {},
   "outputs": [
    {
     "data": {
      "text/plain": [
       "array([0, 0, 0, ..., 0, 1, 0], dtype=int64)"
      ]
     },
     "execution_count": 4,
     "metadata": {},
     "output_type": "execute_result"
    }
   ],
   "source": [
    "scaler = StandardScaler()\n",
    "\n",
    "df[\"SEX\"].replace(to_replace=\"M\", value=1, inplace=True)\n",
    "df[\"SEX\"].replace(to_replace=\"F\", value=0, inplace=True)\n",
    "\n",
    "features = df.drop(\"SOURCE\",axis=1)\n",
    "features_scaled = scaler.fit_transform(features)\n",
    "features_scaled\n",
    "\n",
    "df[\"SOURCE\"].replace(to_replace=\"in\", value=1, inplace=True)\n",
    "df[\"SOURCE\"].replace(to_replace=\"out\", value=0, inplace=True)\n",
    "Y = df[\"SOURCE\"].to_numpy()\n",
    "Y"
   ]
  },
  {
   "cell_type": "code",
   "execution_count": 5,
   "id": "50c50351",
   "metadata": {},
   "outputs": [
    {
     "data": {
      "text/plain": [
       "(4412, 10)"
      ]
     },
     "execution_count": 5,
     "metadata": {},
     "output_type": "execute_result"
    }
   ],
   "source": [
    "features_scaled.shape"
   ]
  },
  {
   "cell_type": "markdown",
   "id": "ed110976",
   "metadata": {},
   "source": [
    "### Splitting data to training and test sets"
   ]
  },
  {
   "cell_type": "code",
   "execution_count": 6,
   "id": "3046f50a",
   "metadata": {},
   "outputs": [
    {
     "data": {
      "text/plain": [
       "(883,)"
      ]
     },
     "execution_count": 6,
     "metadata": {},
     "output_type": "execute_result"
    }
   ],
   "source": [
    "X_train, X_test, Y_train, Y_test = train_test_split(features_scaled, Y, test_size=0.2, random_state=2)\n",
    "Y_test.shape"
   ]
  },
  {
   "cell_type": "markdown",
   "id": "f569af72",
   "metadata": {},
   "source": [
    "### Create a linear logistic regression classifier by sklearn library"
   ]
  },
  {
   "cell_type": "code",
   "execution_count": 79,
   "id": "9c217906",
   "metadata": {},
   "outputs": [
    {
     "data": {
      "text/plain": [
       "LogisticRegression(class_weight={1: 1.5})"
      ]
     },
     "execution_count": 79,
     "metadata": {},
     "output_type": "execute_result"
    }
   ],
   "source": [
    "lr_linear=LogisticRegression(class_weight={1: 1.5})\n",
    "lr_linear.fit(X_train, Y_train)"
   ]
  },
  {
   "cell_type": "markdown",
   "id": "9ef8cdaf",
   "metadata": {},
   "source": [
    "### Evaluate the lr model by accuracy and confusion matrix"
   ]
  },
  {
   "cell_type": "code",
   "execution_count": 80,
   "id": "a75147d6",
   "metadata": {},
   "outputs": [
    {
     "data": {
      "text/plain": [
       "0.7066817667044167"
      ]
     },
     "execution_count": 80,
     "metadata": {},
     "output_type": "execute_result"
    }
   ],
   "source": [
    "lr_linear_acc = lr_linear.score(X_test, Y_test)\n",
    "lr_linear_acc"
   ]
  },
  {
   "cell_type": "code",
   "execution_count": 81,
   "id": "16f1a4db",
   "metadata": {},
   "outputs": [],
   "source": [
    "def plot_confusion_matrix(y,y_predict):\n",
    "    \"this function plots the confusion matrix\"\n",
    "    from sklearn.metrics import confusion_matrix\n",
    "\n",
    "    cm = confusion_matrix(y, y_predict)\n",
    "    plt.figure(figsize=(10, 8))\n",
    "    ax= plt.subplot()\n",
    "    \n",
    "    sns.heatmap(cm, annot=True, annot_kws={\"size\": 20}, ax = ax, fmt='g'); #annot=True to annotate cells\n",
    "    ax.set_xlabel('Predicted labels', fontsize = 15)\n",
    "    ax.set_ylabel('True labels', fontsize = 15)\n",
    "    ax.set_title('Confusion Matrix', fontsize = 15); \n",
    "    ax.xaxis.set_ticklabels(['out care', 'in care'], fontsize = 13); ax.yaxis.set_ticklabels(['out care', 'in care'], fontsize = 13) \n",
    "    \n",
    "    plt.show() "
   ]
  },
  {
   "cell_type": "code",
   "execution_count": 82,
   "id": "11350acc",
   "metadata": {},
   "outputs": [
    {
     "data": {
      "image/png": "[encoded data removed]",
      "text/plain": [
       "<Figure size 720x576 with 2 Axes>"
      ]
     },
     "metadata": {
      "needs_background": "light"
     },
     "output_type": "display_data"
    }
   ],
   "source": [
    "lr_linear_pred = lr_linear.predict(X_test)\n",
    "plot_confusion_matrix(Y_test,lr_linear_pred)"
   ]
  },
  {
   "cell_type": "markdown",
   "id": "a4779902",
   "metadata": {},
   "source": [
    "### Create a support vector machine classifier by sklearn library"
   ]
  },
  {
   "cell_type": "code",
   "execution_count": 112,
   "id": "c54ec741",
   "metadata": {},
   "outputs": [
    {
     "data": {
      "text/plain": [
       "SVC(class_weight={1: 1.5})"
      ]
     },
     "execution_count": 112,
     "metadata": {},
     "output_type": "execute_result"
    }
   ],
   "source": [
    "svm = SVC(class_weight={1: 1.5})\n",
    "svm.fit(X_train, Y_train)"
   ]
  },
  {
   "cell_type": "markdown",
   "id": "c73783fa",
   "metadata": {},
   "source": [
    "### Evaluate the svm model by accuracy and confusion matrix"
   ]
  },
  {
   "cell_type": "code",
   "execution_count": 113,
   "id": "6d461694",
   "metadata": {},
   "outputs": [
    {
     "data": {
      "text/plain": [
       "0.7576443941109853"
      ]
     },
     "execution_count": 113,
     "metadata": {},
     "output_type": "execute_result"
    }
   ],
   "source": [
    "svm_acc = svm.score(X_test, Y_test)\n",
    "svm_acc"
   ]
  },
  {
   "cell_type": "code",
   "execution_count": 114,
   "id": "d351e9ba",
   "metadata": {},
   "outputs": [
    {
     "data": {
      "image/png": "[encoded data removed]",
      "text/plain": [
       "<Figure size 720x576 with 2 Axes>"
      ]
     },
     "metadata": {
      "needs_background": "light"
     },
     "output_type": "display_data"
    }
   ],
   "source": [
    "svm_pred = svm.predict(X_test)\n",
    "plot_confusion_matrix(Y_test,svm_pred)"
   ]
  },
  {
   "cell_type": "markdown",
   "id": "bf34e8ea",
   "metadata": {},
   "source": [
    "### Create non-linear deep learning model with Keras"
   ]
  },
  {
   "cell_type": "code",
   "execution_count": 127,
   "id": "f687bfa4",
   "metadata": {},
   "outputs": [],
   "source": [
    "model = Sequential()                                                  \n",
    "model.add(Dense(20, activation=\"leaky_relu\", input_shape=(10,)))           \n",
    "model.add(Dense(20, activation=\"leaky_relu\"))       \n",
    "model.add(Dense(1, activation=\"sigmoid\"))    "
   ]
  },
  {
   "cell_type": "code",
   "execution_count": 128,
   "id": "9bca3c37",
   "metadata": {},
   "outputs": [],
   "source": [
    "model.compile(optimizer=\"adam\",\n",
    "            loss=\"binary_crossentropy\",\n",
    "            metrics=[\"accuracy\"])"
   ]
  },
  {
   "cell_type": "code",
   "execution_count": 130,
   "id": "1c67a4bb",
   "metadata": {},
   "outputs": [
    {
     "name": "stdout",
     "output_type": "stream",
     "text": [
      "Epoch 1/10\n",
      "111/111 [==============================] - 0s 4ms/step - loss: 0.6546 - accuracy: 0.7319 - val_loss: 0.5462 - val_accuracy: 0.7361\n",
      "Epoch 2/10\n",
      "111/111 [==============================] - 0s 4ms/step - loss: 0.6497 - accuracy: 0.7407 - val_loss: 0.5503 - val_accuracy: 0.7373\n",
      "Epoch 3/10\n",
      "111/111 [==============================] - 0s 4ms/step - loss: 0.6484 - accuracy: 0.7317 - val_loss: 0.5408 - val_accuracy: 0.7350\n",
      "Epoch 4/10\n",
      "111/111 [==============================] - 0s 4ms/step - loss: 0.6447 - accuracy: 0.7387 - val_loss: 0.5419 - val_accuracy: 0.7407\n",
      "Epoch 5/10\n",
      "111/111 [==============================] - 0s 4ms/step - loss: 0.6431 - accuracy: 0.7387 - val_loss: 0.5388 - val_accuracy: 0.7350\n",
      "Epoch 6/10\n",
      "111/111 [==============================] - 0s 4ms/step - loss: 0.6406 - accuracy: 0.7413 - val_loss: 0.5424 - val_accuracy: 0.7327\n",
      "Epoch 7/10\n",
      "111/111 [==============================] - 0s 4ms/step - loss: 0.6398 - accuracy: 0.7464 - val_loss: 0.5421 - val_accuracy: 0.7350\n",
      "Epoch 8/10\n",
      "111/111 [==============================] - 0s 4ms/step - loss: 0.6383 - accuracy: 0.7427 - val_loss: 0.5465 - val_accuracy: 0.7305\n",
      "Epoch 9/10\n",
      "111/111 [==============================] - 0s 4ms/step - loss: 0.6388 - accuracy: 0.7421 - val_loss: 0.5469 - val_accuracy: 0.7316\n",
      "Epoch 10/10\n",
      "111/111 [==============================] - 0s 4ms/step - loss: 0.6360 - accuracy: 0.7458 - val_loss: 0.5371 - val_accuracy: 0.7384\n"
     ]
    },
    {
     "data": {
      "text/plain": [
       "<keras.callbacks.History at 0x20e1d3c2340>"
      ]
     },
     "execution_count": 130,
     "metadata": {},
     "output_type": "execute_result"
    }
   ],
   "source": [
    "batch_size = 32\n",
    "model.fit(X_train,Y_train, batch_size=batch_size, epochs=10, validation_data=(X_test, Y_test), class_weight={0:1, 1:1.5})"
   ]
  },
  {
   "cell_type": "code",
   "execution_count": 131,
   "id": "23ac15fd",
   "metadata": {},
   "outputs": [
    {
     "name": "stdout",
     "output_type": "stream",
     "text": [
      "28/28 [==============================] - 0s 3ms/step - loss: 0.5371 - accuracy: 0.7384\n"
     ]
    },
    {
     "data": {
      "text/plain": [
       "0.7383918166160583"
      ]
     },
     "execution_count": 131,
     "metadata": {},
     "output_type": "execute_result"
    }
   ],
   "source": [
    "model_acc = model.evaluate(X_test, Y_test)\n",
    "model_acc[1]"
   ]
  },
  {
   "cell_type": "code",
   "execution_count": 132,
   "id": "a1f91d86",
   "metadata": {},
   "outputs": [
    {
     "data": {
      "image/png": "[encoded data removed]",
      "text/plain": [
       "<Figure size 720x576 with 2 Axes>"
      ]
     },
     "metadata": {
      "needs_background": "light"
     },
     "output_type": "display_data"
    }
   ],
   "source": [
    "model_pred = (model.predict(X_test) > 0.5).astype(\"int32\")\n",
    "#model_pred\n",
    "plot_confusion_matrix(Y_test,model_pred)"
   ]
  },
  {
   "cell_type": "code",
   "execution_count": null,
   "id": "7f0d2685",
   "metadata": {},
   "outputs": [],
   "source": []
  },
  {
   "cell_type": "code",
   "execution_count": null,
   "id": "97518c59",
   "metadata": {},
   "outputs": [],
   "source": []
  }
 ],
 "metadata": {
  "kernelspec": {
   "display_name": "Python 3",
   "language": "python",
   "name": "python3"
  },
  "language_info": {
   "codemirror_mode": {
    "name": "ipython",
    "version": 3
   },
   "file_extension": ".py",
   "mimetype": "text/x-python",
   "name": "python",
   "nbconvert_exporter": "python",
   "pygments_lexer": "ipython3",
   "version": "3.8.8"
  }
 },
 "nbformat": 4,
 "nbformat_minor": 5
}
